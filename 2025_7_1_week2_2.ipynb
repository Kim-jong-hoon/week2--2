{
  "nbformat": 4,
  "nbformat_minor": 0,
  "metadata": {
    "colab": {
      "provenance": [],
      "authorship_tag": "ABX9TyNpRBPKCYA26gtTNpVZ0W1K",
      "include_colab_link": true
    },
    "kernelspec": {
      "name": "python3",
      "display_name": "Python 3"
    },
    "language_info": {
      "name": "python"
    }
  },
  "cells": [
    {
      "cell_type": "markdown",
      "metadata": {
        "id": "view-in-github",
        "colab_type": "text"
      },
      "source": [
        "<a href=\"https://colab.research.google.com/github/Kim-jong-hoon/week2--2/blob/main/2025_7_1_week2_2.ipynb\" target=\"_parent\"><img src=\"https://colab.research.google.com/assets/colab-badge.svg\" alt=\"Open In Colab\"/></a>"
      ]
    },
    {
      "cell_type": "markdown",
      "source": [
        "1번 플로우 차트"
      ],
      "metadata": {
        "id": "1NgCEsD0XJ-z"
      }
    },
    {
      "cell_type": "code",
      "execution_count": 35,
      "metadata": {
        "colab": {
          "base_uri": "https://localhost:8080/"
        },
        "id": "bY1_F-ZpTi-w",
        "outputId": "5a565afe-c453-438d-e82a-ea5dc3e702d2"
      },
      "outputs": [
        {
          "output_type": "stream",
          "name": "stdout",
          "text": [
            "센서 초기값: {'front': 15.0, 'letf': 15.0, 'right': 15.0}\n"
          ]
        }
      ],
      "source": [
        "def init_sensors():\n",
        "\n",
        "    sensors = {\n",
        "        \"front\" : 15.0,\n",
        "        \"letf\" : 15.0,\n",
        "        \"right\": 15.0\n",
        "    }\n",
        "    print(\"센서 초기값:\",sensors)\n",
        "    return sensors\n",
        "\n",
        "sensors =init_sensors()"
      ]
    },
    {
      "cell_type": "markdown",
      "source": [
        "2번 플로우 차트(전방)"
      ],
      "metadata": {
        "id": "v2i_-UDUZOcv"
      }
    },
    {
      "cell_type": "code",
      "source": [
        "obstacles = [{'x':0, 'y':0, 'type':'벽'},\n",
        "             {'x':0, 'y':0, 'type':'사람'},\n",
        "             {'x':0, 'y':0, 'type':'상자'}]\n",
        "sensors = {'front' : 15.0, 'left':15.0, 'right':15.0 }\n",
        "\n",
        "\n",
        "def scan_front(x, y, obstacles, sensors):\n",
        "\n",
        "    print(\"2-04앞쪽 스캔 시작\")\n",
        "\n",
        "\n",
        "    if (x, y + 1) in obstacles:\n",
        "        print(\"2-06 앞쪽 1칸 장애물 발견\")\n",
        "        sensors['front'] = 1.0\n",
        "\n",
        "\n",
        "\n",
        "    elif (x, y + 2) in obstacles:\n",
        "        print(\"2 -10 앞쪽 2칸 장애물 발견\")\n",
        "        sensors['front'] = 2.0\n",
        "\n",
        "\n",
        "\n",
        "    elif (x , y + 3) in obstacles:\n",
        "        print(\"2-13 앞쪽 3칸 장애물 발견\")\n",
        "        sensors['front'] = 3.0\n",
        "\n",
        "\n",
        "\n",
        "    else:\n",
        "        print(\"2-15 앞쪽 장애물 없음 센서값 15.0 유지\")\n",
        "\n",
        "\n",
        "    print(\"센서 스캔 완료:\", sensors)\n",
        "    return sensors\n",
        "scan_front(0, 0, obstacles, sensors)\n"
      ],
      "metadata": {
        "id": "ee5Xo21WZOyD",
        "colab": {
          "base_uri": "https://localhost:8080/"
        },
        "outputId": "9c7a98a8-89a2-4253-c3bd-5c0f7848faa3"
      },
      "execution_count": 25,
      "outputs": [
        {
          "output_type": "stream",
          "name": "stdout",
          "text": [
            "2-04앞쪽 스캔 시작\n",
            "2-15 앞쪽 장애물 없음 센서값 15.0 유지\n",
            "센서 스캔 완료: {'front': 15.0, 'left': 15.0, 'right': 15.0}\n"
          ]
        },
        {
          "output_type": "execute_result",
          "data": {
            "text/plain": [
              "{'front': 15.0, 'left': 15.0, 'right': 15.0}"
            ]
          },
          "metadata": {},
          "execution_count": 25
        }
      ]
    },
    {
      "cell_type": "markdown",
      "source": [
        "3번 플로우 차트 (왼쪽)"
      ],
      "metadata": {
        "id": "dXa8H6t1gkMg"
      }
    },
    {
      "cell_type": "code",
      "source": [
        "def scan_left(x, y, obstacles, sensors):\n",
        "    print(\"3-4 왼쪽 스캔 시작\")\n",
        "\n",
        "\n",
        "    if (x - 1, y) in obstacles:\n",
        "        print(\"3-7 왼쪽 1칸 장애물 발견\")\n",
        "        sensors['left'] = 1.0\n",
        "\n",
        "\n",
        "    elif (x - 2, y) in obstacles:\n",
        "        print(\"3-10 왼쪽 2칸 장애물 발견\")\n",
        "        sensors['left'] = 2.0\n",
        "\n",
        "\n",
        "    elif (x - 3, y) in obstacles:\n",
        "        print(\"3-13 왼쪽 3칸 장애물 발견\")\n",
        "        sensors['left'] = 3.0\n",
        "\n",
        "\n",
        "    else:\n",
        "        print(\"3-15 왼쪽 장애물 없음 센서값 15.0 유지\")\n",
        "\n",
        "\n",
        "    print(\"44 왼쪽 스캔 완료:\", sensors)\n",
        "    return sensors\n",
        "scan_left(0, 0, obstacles, sensors)\n",
        "\n"
      ],
      "metadata": {
        "id": "Vv7rHEXxgkj8",
        "colab": {
          "base_uri": "https://localhost:8080/"
        },
        "outputId": "583bca36-c3c7-46f1-c5e9-30ea04adaa6c"
      },
      "execution_count": 27,
      "outputs": [
        {
          "output_type": "stream",
          "name": "stdout",
          "text": [
            "3-4 왼쪽 스캔 시작\n",
            "3-15 왼쪽 장애물 없음 센서값 15.0 유지\n",
            "44 왼쪽 스캔 완료: {'front': 15.0, 'left': 15.0, 'right': 15.0}\n"
          ]
        },
        {
          "output_type": "execute_result",
          "data": {
            "text/plain": [
              "{'front': 15.0, 'left': 15.0, 'right': 15.0}"
            ]
          },
          "metadata": {},
          "execution_count": 27
        }
      ]
    },
    {
      "cell_type": "markdown",
      "source": [
        "4번 플로우차트 (오른쪽)"
      ],
      "metadata": {
        "id": "w61Ibjqkn0pv"
      }
    },
    {
      "cell_type": "code",
      "source": [
        "def scan_right(x, y, obstacles, sensors):\n",
        "    print(\"3-4 오른쪽 스캔 시작\")\n",
        "\n",
        "\n",
        "    if (x+1 , y) in obstacles:\n",
        "        print(\"3-7 오른쪽 1칸 장애물 발견\")\n",
        "        sensors['right'] = 1.0\n",
        "\n",
        "\n",
        "    elif (x+2 , y) in obstacles:\n",
        "        print(\"3-10 오른쪽 2칸 장애물 발견\")\n",
        "        sensors['right'] = 2.0\n",
        "\n",
        "\n",
        "    elif (x+3, y) in obstacles:\n",
        "        print(\"3-13 오른쪽 3칸 장애물 발견\")\n",
        "        sensors['right'] = 3.0\n",
        "\n",
        "\n",
        "    else:\n",
        "        print(\"3-15 오른쪽 장애물 없음 센서값 15.0 유지\")\n",
        "\n",
        "\n",
        "    print(\"44 오른쪽 스캔 완료:\", sensors)\n",
        "\n",
        "    return sensors\n",
        "scan_right(0, 0, obstacles, sensors)"
      ],
      "metadata": {
        "id": "wEBS0LcBn1Hi",
        "colab": {
          "base_uri": "https://localhost:8080/"
        },
        "outputId": "476ee2d6-b27c-45ab-8082-5c7680d52bcc"
      },
      "execution_count": 28,
      "outputs": [
        {
          "output_type": "stream",
          "name": "stdout",
          "text": [
            "3-4 오른쪽 스캔 시작\n",
            "3-15 오른쪽 장애물 없음 센서값 15.0 유지\n",
            "44 오른쪽 스캔 완료: {'front': 15.0, 'left': 15.0, 'right': 15.0}\n"
          ]
        },
        {
          "output_type": "execute_result",
          "data": {
            "text/plain": [
              "{'front': 15.0, 'left': 15.0, 'right': 15.0}"
            ]
          },
          "metadata": {},
          "execution_count": 28
        }
      ]
    },
    {
      "cell_type": "markdown",
      "source": [
        "5번 플로우차트 (센서 데이터 업데이트 함수)"
      ],
      "metadata": {
        "id": "pBkgGwjeoZnW"
      }
    },
    {
      "cell_type": "code",
      "source": [
        "position = {'x':0, 'y':0}\n",
        "\n",
        "obstacles = [{'x':0, 'y':0, 'type':'벽'},\n",
        "             {'x':0, 'y':0, 'type':'사람'},\n",
        "             {'x':0, 'y':0, 'type':'상자'}]\n",
        "\n",
        "\n",
        "\n",
        "def update_sensor_data(position, obstacles):\n",
        "\n",
        "    print(\"5-4 함수 시작\")\n",
        "\n",
        "\n",
        "    x = position['x']\n",
        "    y = position['y']\n",
        "\n",
        "    print(\"5-6 위치 추출 완료\")\n",
        "    print(\"x =\", x, \", y =\", y)\n",
        "\n",
        "\n",
        "    sensors = init_sensors()\n",
        "    scan_front(x, y, obstacles, sensors)\n",
        "    scan_left(x, y, obstacles, sensors)\n",
        "    scan_right(x, y, obstacles, sensors)\n",
        "\n",
        "\n",
        "    print(\"5-17 센서 업데이트 완료\", sensors)\n",
        "\n",
        "    return sensors\n",
        "sensors = update_sensor_data(position, obstacles)\n"
      ],
      "metadata": {
        "id": "-mEshO-Co14k",
        "colab": {
          "base_uri": "https://localhost:8080/"
        },
        "outputId": "3042aae0-bf00-414d-d2a5-7d6eebc09c85"
      },
      "execution_count": 36,
      "outputs": [
        {
          "output_type": "stream",
          "name": "stdout",
          "text": [
            "5-4 함수 시작\n",
            "5-6 위치 추출 완료\n",
            "x = 0 , y = 0\n",
            "센서 초기값: {'front': 15.0, 'letf': 15.0, 'right': 15.0}\n",
            "2-04앞쪽 스캔 시작\n",
            "2-15 앞쪽 장애물 없음 센서값 15.0 유지\n",
            "센서 스캔 완료: {'front': 15.0, 'letf': 15.0, 'right': 15.0}\n",
            "3-4 왼쪽 스캔 시작\n",
            "3-15 왼쪽 장애물 없음 센서값 15.0 유지\n",
            "44 왼쪽 스캔 완료: {'front': 15.0, 'letf': 15.0, 'right': 15.0}\n",
            "3-4 오른쪽 스캔 시작\n",
            "3-15 오른쪽 장애물 없음 센서값 15.0 유지\n",
            "44 오른쪽 스캔 완료: {'front': 15.0, 'letf': 15.0, 'right': 15.0}\n",
            "5-17 센서 업데이트 완료 {'front': 15.0, 'letf': 15.0, 'right': 15.0}\n"
          ]
        }
      ]
    },
    {
      "cell_type": "markdown",
      "source": [
        "6번 플로우 차트"
      ],
      "metadata": {
        "id": "QKmGnxEoy0Jy"
      }
    },
    {
      "cell_type": "code",
      "source": [
        "def detect_path(sensors, safe_distance):\n",
        "    print(\"6-4 함수 시작\")\n",
        "\n",
        "\n",
        "    print(\"현재 센서 정보:\", sensors)\n",
        "\n",
        "    obstacles = []\n",
        "\n",
        "\n",
        "    for direction, distance in sensors.items():\n",
        "        print(f\"{direction} 방향 거리: {distance}\")\n",
        "\n",
        "\n",
        "        if distance >= safe_distance:\n",
        "            obstacles.append(direction)\n",
        "            print(f\"{direction} 방향은 안전함 → 후보 등록\")\n",
        "        else:\n",
        "            print(f\"{direction} 방향은 위험함 → 제외\")\n",
        "\n",
        "\n",
        "    if len(obstacles) == 0:\n",
        "        print(\"이동 가능한 방향 없음!\")\n",
        "    else:\n",
        "        print(\"최종 후보 방향:\", obstacles)\n",
        "\n",
        "    return obstacles\n",
        "detect_path(sensors, 15)\n"
      ],
      "metadata": {
        "id": "hV0Go_P6y2DM",
        "colab": {
          "base_uri": "https://localhost:8080/"
        },
        "outputId": "c396e4c3-412d-434d-cad3-f28082ce49ee"
      },
      "execution_count": 38,
      "outputs": [
        {
          "output_type": "stream",
          "name": "stdout",
          "text": [
            "6-4 함수 시작\n",
            "현재 센서 정보: {'front': 15.0, 'letf': 15.0, 'right': 15.0}\n",
            "front 방향 거리: 15.0\n",
            "front 방향은 안전함 → 후보 등록\n",
            "letf 방향 거리: 15.0\n",
            "letf 방향은 안전함 → 후보 등록\n",
            "right 방향 거리: 15.0\n",
            "right 방향은 안전함 → 후보 등록\n",
            "최종 후보 방향: ['front', 'letf', 'right']\n"
          ]
        },
        {
          "output_type": "execute_result",
          "data": {
            "text/plain": [
              "['front', 'letf', 'right']"
            ]
          },
          "metadata": {},
          "execution_count": 38
        }
      ]
    },
    {
      "cell_type": "markdown",
      "source": [
        "7번 플로우 차트"
      ],
      "metadata": {
        "id": "rmNmtbd2fhVu"
      }
    },
    {
      "cell_type": "code",
      "source": [
        "def decide_action(obstacles):\n",
        "\n",
        "    if len(obstacles) == 0:\n",
        "      action = 'front'\n",
        "      print(\"장애물 없음\")\n",
        "\n",
        "    elif ('front' not in obstacles):\n",
        "      action = '주의해서 직진'\n",
        "      print(\"앞 장애물 없음\")\n",
        "\n",
        "    elif ('fornt'in obstacles):\n",
        "      print(\"앞 장애물 있음, 좌우 확인\")\n",
        "      if('left'not in obstacles):\n",
        "        action = 'left'\n",
        "      print(\"왼쪽 안전\")\n",
        "\n",
        "    elif('right'not in obstacles):\n",
        "      action = 'right'\n",
        "      print(\"오른쪽 안전\")\n",
        "\n",
        "    else:\n",
        "      action = '정지'\n",
        "      print(\"모든 방향 위험\")\n",
        "\n",
        "    return action\n",
        "decide_action(obstacles)\n",
        "\n",
        "\n",
        "\n",
        ""
      ],
      "metadata": {
        "colab": {
          "base_uri": "https://localhost:8080/",
          "height": 54
        },
        "id": "AYGHXLvHfi9R",
        "outputId": "292a4f71-e0be-4413-ecbe-e60b8449eafa"
      },
      "execution_count": 39,
      "outputs": [
        {
          "output_type": "stream",
          "name": "stdout",
          "text": [
            "앞 장애물 없음\n"
          ]
        },
        {
          "output_type": "execute_result",
          "data": {
            "text/plain": [
              "'주의해서 직진'"
            ],
            "application/vnd.google.colaboratory.intrinsic+json": {
              "type": "string"
            }
          },
          "metadata": {},
          "execution_count": 39
        }
      ]
    },
    {
      "cell_type": "markdown",
      "source": [
        "8번 플로우차트"
      ],
      "metadata": {
        "id": "raJIBHLMvHA-"
      }
    },
    {
      "cell_type": "code",
      "source": [
        "class SimpleCar:\n",
        "    def __init__(self, name, x, y):\n",
        "        self.name = name\n",
        "        self.x = x\n",
        "        self.y = y\n",
        "        print(f\"{self.name} 자동차가 ({self.x}, {self.y}) 위치에 생성되었습니다.\")\n",
        "\n",
        "    def move_forward(self):\n",
        "        self.y += 1\n",
        "        print(\" 전진 -> 위치:\", self.x, self.y)\n",
        "\n",
        "    def turn_left(self):\n",
        "        self.x -= 1\n",
        "        print(\" 좌회전 -> 위치:\", self.x, self.y)\n",
        "\n",
        "    def turn_right(self):\n",
        "        self.x += 1\n",
        "        print(\" 우회전 -> 위치:\", self.x, self.y)\n",
        "\n",
        "    def stop(self):\n",
        "        print(\"정지 -> 현재 위치 유지:\", self.x, self.y)\n",
        "\n",
        "    def execute_action(self, action):\n",
        "        print(\"명령을 실행 중:\", action)\n",
        "        if action == \"전진\":\n",
        "            self.move_forward()\n",
        "        elif action == \"좌회전\":\n",
        "            self.turn_left()\n",
        "        elif action == \"우회전\":\n",
        "            self.turn_right()\n",
        "        elif action == \"후진\":\n",
        "            self.y -= 1\n",
        "            print(\"↩️ 후진 -> 위치:\", self.x, self.y)\n",
        "        elif action == \"정지\":\n",
        "            self.stop()\n",
        "\n",
        "\n",
        "# 장애물 정보 업데이트\n",
        "def update_sensor_data(position, obstacles):\n",
        "    x, y = position\n",
        "    sensors = {}\n",
        "    sensors[(0, 1)] = (x, y + 1) in obstacles  # 전방\n",
        "    sensors[(-1, 0)] = (x - 1, y) in obstacles  # 좌측\n",
        "    sensors[(1, 0)] = (x + 1, y) in obstacles  # 우측\n",
        "    sensors[(0, -1)] = (x, y - 1) in obstacles  # 후방\n",
        "    return [dir for dir, has_obstacle in sensors.items() if has_obstacle]\n",
        "\n",
        "\n",
        "# 장애물 감지 함수\n",
        "def detect_obstacles(position, obstacles):\n",
        "    return update_sensor_data(position, obstacles)\n",
        "\n",
        "\n",
        "# 판단 알고리즘 (앞선 결정 알고리즘 재사용)\n",
        "def decide_action(obstacles):\n",
        "    print(\"장애물 정보:\", obstacles)\n",
        "    if len(obstacles) == 0:\n",
        "        return \"전진\"\n",
        "    elif (0, 1) in obstacles:\n",
        "        if (-1, 0) not in obstacles:\n",
        "            return \"좌회전\"\n",
        "        elif (1, 0) not in obstacles:\n",
        "            return \"우회전\"\n",
        "        elif (0, -1) not in obstacles:\n",
        "            return \"후진\"\n",
        "        else:\n",
        "            return \"정지\"\n",
        "    else:\n",
        "        return \"전진\"\n",
        "\n",
        "\n",
        "# 시뮬레이션 함수\n",
        "def run_simulation(obstacles):\n",
        "    car = SimpleCar(\"AI카\", 0, 0)\n",
        "\n",
        "    for step in range(10):\n",
        "        print(f\"\\n🔄 Step {step + 1}\")\n",
        "        position = (car.x, car.y)\n",
        "        sensed_obstacles = detect_obstacles(position, obstacles)\n",
        "        action = decide_action(sensed_obstacles)\n",
        "        car.execute_action(action)\n",
        "\n",
        "        if action == \"정지\":\n",
        "            print(\"✅ 시뮬레이션 종료 (차량 정지)\")\n",
        "            break\n",
        "\n",
        "\n",
        "# 예제 장애물 지도\n",
        "obstacle_positions = [(0, 1), (1, 1), (-1, 1), (0, -1)]  # 전방, 좌우, 후방 막힘\n",
        "run_simulation(obstacle_positions)\n"
      ],
      "metadata": {
        "colab": {
          "base_uri": "https://localhost:8080/"
        },
        "id": "_7_x5-cOvIYH",
        "outputId": "555ae067-8711-4418-92a3-62ee7bb93eab"
      },
      "execution_count": 43,
      "outputs": [
        {
          "output_type": "stream",
          "name": "stdout",
          "text": [
            "AI카 자동차가 (0, 0) 위치에 생성되었습니다.\n",
            "\n",
            "🔄 Step 1\n",
            "장애물 정보: [(0, 1), (0, -1)]\n",
            "명령을 실행 중: 좌회전\n",
            " 좌회전 -> 위치: -1 0\n",
            "\n",
            "🔄 Step 2\n",
            "장애물 정보: [(0, 1)]\n",
            "명령을 실행 중: 좌회전\n",
            " 좌회전 -> 위치: -2 0\n",
            "\n",
            "🔄 Step 3\n",
            "장애물 정보: []\n",
            "명령을 실행 중: 전진\n",
            " 전진 -> 위치: -2 1\n",
            "\n",
            "🔄 Step 4\n",
            "장애물 정보: [(1, 0)]\n",
            "명령을 실행 중: 전진\n",
            " 전진 -> 위치: -2 2\n",
            "\n",
            "🔄 Step 5\n",
            "장애물 정보: []\n",
            "명령을 실행 중: 전진\n",
            " 전진 -> 위치: -2 3\n",
            "\n",
            "🔄 Step 6\n",
            "장애물 정보: []\n",
            "명령을 실행 중: 전진\n",
            " 전진 -> 위치: -2 4\n",
            "\n",
            "🔄 Step 7\n",
            "장애물 정보: []\n",
            "명령을 실행 중: 전진\n",
            " 전진 -> 위치: -2 5\n",
            "\n",
            "🔄 Step 8\n",
            "장애물 정보: []\n",
            "명령을 실행 중: 전진\n",
            " 전진 -> 위치: -2 6\n",
            "\n",
            "🔄 Step 9\n",
            "장애물 정보: []\n",
            "명령을 실행 중: 전진\n",
            " 전진 -> 위치: -2 7\n",
            "\n",
            "🔄 Step 10\n",
            "장애물 정보: []\n",
            "명령을 실행 중: 전진\n",
            " 전진 -> 위치: -2 8\n"
          ]
        }
      ]
    },
    {
      "cell_type": "markdown",
      "source": [
        "9번 플로우차트"
      ],
      "metadata": {
        "id": "-g9aLDiIv5f9"
      }
    },
    {
      "cell_type": "code",
      "source": [
        "if __name__ == \"__main__\":\n",
        "    print(\"9-3 메인 실행 시작\")\n",
        "\n",
        "    print(\"9-6 자동차 설정\")\n",
        "\n",
        "\n",
        "    car = SimpleCar('현대차', 3, 0)\n",
        "\n",
        "\n",
        "    print(\"9-10 장애물 설정\")\n",
        "    obstacles = {(0, 2), (0, 3), (2, 4), (4, 6)}\n",
        "\n",
        "\n",
        "    print(\"9-12 장애물 설정 완료\")\n",
        "    print(\"장애물 리스트:\", obstacles)\n",
        "\n",
        "\n",
        "    print(\"9-15 시뮬레이션 호출\")\n",
        "    run_simulation(obstacles)\n",
        "\n",
        "    # 🔚 프로그램 종료\n",
        "    print(\"9-18 프로그램 종료 완료\")\n"
      ],
      "metadata": {
        "colab": {
          "base_uri": "https://localhost:8080/"
        },
        "id": "U8QCjhmpv67-",
        "outputId": "1343a412-e771-4a8d-957a-ec1e72492734"
      },
      "execution_count": 45,
      "outputs": [
        {
          "output_type": "stream",
          "name": "stdout",
          "text": [
            "9-3 메인 실행 시작\n",
            "9-6 자동차 설정\n",
            "현대차 자동차가 (3, 0) 위치에 생성되었습니다.\n",
            "9-10 장애물 설정\n",
            "9-12 장애물 설정 완료\n",
            "장애물 리스트: {(0, 2), (4, 6), (2, 4), (0, 3)}\n",
            "9-15 시뮬레이션 호출\n",
            "AI카 자동차가 (0, 0) 위치에 생성되었습니다.\n",
            "\n",
            "🔄 Step 1\n",
            "장애물 정보: []\n",
            "명령을 실행 중: 전진\n",
            " 전진 -> 위치: 0 1\n",
            "\n",
            "🔄 Step 2\n",
            "장애물 정보: [(0, 1)]\n",
            "명령을 실행 중: 좌회전\n",
            " 좌회전 -> 위치: -1 1\n",
            "\n",
            "🔄 Step 3\n",
            "장애물 정보: []\n",
            "명령을 실행 중: 전진\n",
            " 전진 -> 위치: -1 2\n",
            "\n",
            "🔄 Step 4\n",
            "장애물 정보: [(1, 0)]\n",
            "명령을 실행 중: 전진\n",
            " 전진 -> 위치: -1 3\n",
            "\n",
            "🔄 Step 5\n",
            "장애물 정보: [(1, 0)]\n",
            "명령을 실행 중: 전진\n",
            " 전진 -> 위치: -1 4\n",
            "\n",
            "🔄 Step 6\n",
            "장애물 정보: []\n",
            "명령을 실행 중: 전진\n",
            " 전진 -> 위치: -1 5\n",
            "\n",
            "🔄 Step 7\n",
            "장애물 정보: []\n",
            "명령을 실행 중: 전진\n",
            " 전진 -> 위치: -1 6\n",
            "\n",
            "🔄 Step 8\n",
            "장애물 정보: []\n",
            "명령을 실행 중: 전진\n",
            " 전진 -> 위치: -1 7\n",
            "\n",
            "🔄 Step 9\n",
            "장애물 정보: []\n",
            "명령을 실행 중: 전진\n",
            " 전진 -> 위치: -1 8\n",
            "\n",
            "🔄 Step 10\n",
            "장애물 정보: []\n",
            "명령을 실행 중: 전진\n",
            " 전진 -> 위치: -1 9\n",
            "9-18 프로그램 종료 완료\n"
          ]
        }
      ]
    }
  ]
}