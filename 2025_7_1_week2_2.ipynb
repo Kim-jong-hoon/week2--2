{
  "nbformat": 4,
  "nbformat_minor": 0,
  "metadata": {
    "colab": {
      "provenance": [],
      "authorship_tag": "ABX9TyPhLsQ2modyxygLOHE8PCDb",
      "include_colab_link": true
    },
    "kernelspec": {
      "name": "python3",
      "display_name": "Python 3"
    },
    "language_info": {
      "name": "python"
    }
  },
  "cells": [
    {
      "cell_type": "markdown",
      "metadata": {
        "id": "view-in-github",
        "colab_type": "text"
      },
      "source": [
        "<a href=\"https://colab.research.google.com/github/Kim-jong-hoon/week2--2/blob/main/2025_7_1_week2_2.ipynb\" target=\"_parent\"><img src=\"https://colab.research.google.com/assets/colab-badge.svg\" alt=\"Open In Colab\"/></a>"
      ]
    },
    {
      "cell_type": "markdown",
      "source": [
        "1번 플로우 차트"
      ],
      "metadata": {
        "id": "1NgCEsD0XJ-z"
      }
    },
    {
      "cell_type": "code",
      "execution_count": 18,
      "metadata": {
        "colab": {
          "base_uri": "https://localhost:8080/"
        },
        "id": "bY1_F-ZpTi-w",
        "outputId": "ec7deac0-1900-4682-ffbf-20abe45e8932"
      },
      "outputs": [
        {
          "output_type": "stream",
          "name": "stdout",
          "text": [
            "센서 초기값: {'front': 15.0, 'letf': 15.0, 'right': 15.0}\n"
          ]
        },
        {
          "output_type": "execute_result",
          "data": {
            "text/plain": [
              "{'front': 15.0, 'letf': 15.0, 'right': 15.0}"
            ]
          },
          "metadata": {},
          "execution_count": 18
        }
      ],
      "source": [
        "def init_sensors():\n",
        "\n",
        "    sensors = {\n",
        "        \"front\" : 15.0,\n",
        "        \"letf\" : 15.0,\n",
        "        \"right\": 15.0\n",
        "    }\n",
        "    print(\"센서 초기값:\",sensors)\n",
        "    return sensors\n",
        "\n",
        "init_sensors()"
      ]
    },
    {
      "cell_type": "markdown",
      "source": [
        "2번 플로우 차트(전방)"
      ],
      "metadata": {
        "id": "v2i_-UDUZOcv"
      }
    },
    {
      "cell_type": "code",
      "source": [
        "def scan_front(x, y, obstacles, sensors):\n",
        "\n",
        "    print(\"2-04앞쪽 스캔 시작\")\n",
        "\n",
        "\n",
        "    if (x, y + 1) in obstacles:\n",
        "        print(\"2-06 앞쪽 1칸 장애물 발견\")\n",
        "        sensors['front'] = 1.0\n",
        "\n",
        "\n",
        "\n",
        "    elif (x, y + 2) in obstacles:\n",
        "        print(\"2 -10 앞쪽 2칸 장애물 발견\")\n",
        "        sensors['front'] = 2.0\n",
        "\n",
        "\n",
        "\n",
        "    elif (x , y + 3) in obstacles:\n",
        "        print(\"2-13 앞쪽 3칸 장애물 발견\")\n",
        "        sensors['front'] = 3.0\n",
        "\n",
        "\n",
        "\n",
        "    else:\n",
        "        print(\"2-15 앞쪽 장애물 없음 센서값 15.0 유지\")\n",
        "\n",
        "\n",
        "    print(\"센서 스캔 완료:\", sensors)"
      ],
      "metadata": {
        "id": "ee5Xo21WZOyD"
      },
      "execution_count": 19,
      "outputs": []
    },
    {
      "cell_type": "markdown",
      "source": [
        "3번 플로우 차트 (왼쪽)"
      ],
      "metadata": {
        "id": "dXa8H6t1gkMg"
      }
    },
    {
      "cell_type": "code",
      "source": [
        "def scan_left(x, y, obstacles, sensors):\n",
        "    print(\"3-4 왼쪽 스캔 시작\")\n",
        "\n",
        "\n",
        "    if (x - 1, y) in obstacles:\n",
        "        print(\"3-7 왼쪽 1칸 장애물 발견\")\n",
        "        sensors['left'] = 1.0\n",
        "\n",
        "\n",
        "    elif (x - 2, y) in obstacles:\n",
        "        print(\"3-10 왼쪽 2칸 장애물 발견\")\n",
        "        sensors['left'] = 2.0\n",
        "\n",
        "\n",
        "    elif (x - 3, y) in obstacles:\n",
        "        print(\"3-13 왼쪽 3칸 장애물 발견\")\n",
        "        sensors['left'] = 3.0\n",
        "\n",
        "\n",
        "    else:\n",
        "        print(\"3-15 왼쪽 장애물 없음 센서값 15.0 유지\")\n",
        "\n",
        "\n",
        "    print(\"44 왼쪽 스캔 완료:\", sensors)\n"
      ],
      "metadata": {
        "id": "Vv7rHEXxgkj8"
      },
      "execution_count": null,
      "outputs": []
    },
    {
      "cell_type": "markdown",
      "source": [
        "4번 플로우차트 (오른쪽)"
      ],
      "metadata": {
        "id": "w61Ibjqkn0pv"
      }
    },
    {
      "cell_type": "code",
      "source": [
        "def scan_right(x, y, obstacles, sensors):\n",
        "    print(\"3-4 오른쪽 스캔 시작\")\n",
        "\n",
        "\n",
        "    if (x , y - 1) in obstacles:\n",
        "        print(\"3-7 오른쪽 1칸 장애물 발견\")\n",
        "        sensors['right'] = 1.0\n",
        "\n",
        "\n",
        "    elif (x , y - 2) in obstacles:\n",
        "        print(\"3-10 오른쪽 2칸 장애물 발견\")\n",
        "        sensors['right'] = 2.0\n",
        "\n",
        "\n",
        "    elif (x, y - 3) in obstacles:\n",
        "        print(\"3-13 오른쪽 3칸 장애물 발견\")\n",
        "        sensors['right'] = 3.0\n",
        "\n",
        "\n",
        "    else:\n",
        "        print(\"3-15 오른쪽 장애물 없음 센서값 15.0 유지\")\n",
        "\n",
        "\n",
        "    print(\"44 오른쪽 스캔 완료:\", sensors)"
      ],
      "metadata": {
        "id": "wEBS0LcBn1Hi"
      },
      "execution_count": null,
      "outputs": []
    },
    {
      "cell_type": "markdown",
      "source": [
        "5번 플로우차트 (센서 데이터 업데이트 함수)"
      ],
      "metadata": {
        "id": "pBkgGwjeoZnW"
      }
    },
    {
      "cell_type": "code",
      "source": [
        "def update_sensor_data(position, obstacles):\n",
        "\n",
        "    print(\"5-4 함수 시작\")\n",
        "\n",
        "\n",
        "    x = position[x]\n",
        "    y = position[y]\n",
        "\n",
        "    print(\"5-6 위치 추출 완료\")\n",
        "    print(\"x =\", x, \", y =\", y)\n",
        "\n",
        "\n",
        "    sensors = init_sensors()\n",
        "\n",
        "\n",
        "    scan_front(x, y, obstacles, sensors)\n",
        "    scan_left(x, y, obstacles, sensors)\n",
        "    scan_right(x, y, obstacles, sensors)\n",
        "\n",
        "\n",
        "    print(\"5-17 센서 업데이트 완료\", sensors)\n",
        "\n",
        "    return sensors\n"
      ],
      "metadata": {
        "id": "-mEshO-Co14k"
      },
      "execution_count": 15,
      "outputs": []
    },
    {
      "cell_type": "markdown",
      "source": [
        "6번 플로우 차트"
      ],
      "metadata": {
        "id": "QKmGnxEoy0Jy"
      }
    },
    {
      "cell_type": "code",
      "source": [
        "def detect_path(sensors, safe_distance):\n",
        "    print(\"6-4 함수 시작\")\n",
        "\n",
        "\n",
        "    print(\"현재 센서 정보:\", sensors)\n",
        "\n",
        "    obstacles = []\n",
        "\n",
        "\n",
        "    for direction, distance in sensors.items():\n",
        "        print(f\"{direction} 방향 거리: {distance}\")\n",
        "\n",
        "\n",
        "        if distance >= safe_distance:\n",
        "            obstacles.append(direction)\n",
        "            print(f\"{direction} 방향은 안전함 → 후보 등록\")\n",
        "        else:\n",
        "            print(f\"{direction} 방향은 위험함 → 제외\")\n",
        "\n",
        "\n",
        "    if len(obstacles) == 0:\n",
        "        print(\"이동 가능한 방향 없음!\")\n",
        "    else:\n",
        "        print(\"최종 후보 방향:\", obstacles)\n",
        "\n",
        "    return obstacles\n"
      ],
      "metadata": {
        "id": "hV0Go_P6y2DM"
      },
      "execution_count": 16,
      "outputs": []
    }
  ]
}